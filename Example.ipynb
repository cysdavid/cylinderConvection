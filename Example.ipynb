{
 "cells": [
  {
   "cell_type": "code",
   "execution_count": 1,
   "id": "2e93a801-3e00-4d92-bce9-1e47703e3eba",
   "metadata": {},
   "outputs": [],
   "source": [
    "from cylinderRayleigh import cylRayleigh"
   ]
  },
  {
   "cell_type": "markdown",
   "id": "99828214-ff8c-4607-b12b-52c6a093773c",
   "metadata": {},
   "source": [
    "Print values"
   ]
  },
  {
   "cell_type": "code",
   "execution_count": 2,
   "id": "e00d1e8c-4d9e-4e30-86d5-098b199b5b74",
   "metadata": {},
   "outputs": [
    {
     "name": "stdout",
     "output_type": "stream",
     "text": [
      "Bulk: Rc = 67.3808, σc =  0.0530, mc = 1, nc = 1, kc = 10\n",
      "Wall: Rc = 64.3119, σc =  0.0009, mc = 2.9069, nc = 1\n"
     ]
    }
   ],
   "source": [
    "cylRayleigh(Γ = 0.5,Ek = 7.77e-7,Pr = 0.025)"
   ]
  },
  {
   "cell_type": "markdown",
   "id": "d9ec2f84-ceb8-47e4-854e-8d1123858101",
   "metadata": {},
   "source": [
    "or return values"
   ]
  },
  {
   "cell_type": "code",
   "execution_count": 3,
   "id": "550c2d5c-20a9-44d2-9420-85be0784a39a",
   "metadata": {},
   "outputs": [],
   "source": [
    "R1c, σ1c, m0c, k0c, Rwall, σwall, mwall = cylRayleigh(Γ = 0.5,Ek = 7.77e-7,Pr = 0.025, printVals=False)"
   ]
  },
  {
   "cell_type": "markdown",
   "id": "ceb0625b-40c6-4c7d-a567-ff4aa496862d",
   "metadata": {},
   "source": [
    "Print documentation:"
   ]
  },
  {
   "cell_type": "code",
   "execution_count": 4,
   "id": "bd2b072f-bf8c-4be3-841b-e189887b2442",
   "metadata": {},
   "outputs": [
    {
     "name": "stdout",
     "output_type": "stream",
     "text": [
      "\n",
      "    Returns the minimum (normalized) Rayleigh number and wavenumbers \n",
      "    of bulk and wall modes for rotating convection in a cylinder \n",
      "    with no-slip boundaries, insulating sidewalls, and isothermal top \n",
      "    and bottom. Implements the asymptotic results of Zhang & Liao (2009) \n",
      "    (https://doi.org/10.1017/S002211200800517X).\n",
      "\n",
      "    IMPORTANT: The files 'cylinderRayleigh.py', 'xiRetroGuesses.csv', \n",
      "    and 'xiProGuesses.csv' must all exist in the working directory.\n",
      "\n",
      "    Parameters\n",
      "    ----------\n",
      "    Γ : float\n",
      "        Cylindrical tank aspect ratio.\n",
      "        Ratio of tank radius to height\n",
      "        (Γ = s0/d)\n",
      "    Ek : float\n",
      "        Ekman number.\n",
      "        Ratio of viscous to Coriolis forces on the container scale\n",
      "        (Ek = ν/(Ω d^2))\n",
      "    Pr : float\n",
      "        Prandtl number.\n",
      "        Ratio of viscosity to thermal diffusivity\n",
      "        (Pr = ν/κ)\n",
      "    M : int, optional\n",
      "        Number of azimuthal modes to search. \n",
      "        Program will search azimuthal modes m = 1,...,M\n",
      "        Will not accept M greater than 100.\n",
      "    K : int, optional\n",
      "        Number of radial modes to search.\n",
      "        Program will search radial modes k = 1,...,K\n",
      "        Will not accept K greater than 100.\n",
      "    J : int, optional\n",
      "        A truncation number.\n",
      "        The number of passive temperature modes used to compute the first-order \n",
      "        (viscously-corrected) bulk convection solution.\n",
      "        Using J less than 25 is not recommended (critical mode may be misidentified).\n",
      "    printVals : bool, optional\n",
      "        If True, then values for both bulk and wall onset modes \n",
      "        will be printed instead of returned.\n",
      "        If False, values will be returned instead of printed.\n",
      "\n",
      "    Returns\n",
      "    -------\n",
      "    R1c : float\n",
      "        Minimum modified Rayleigh number among the first M x K bulk modes.\n",
      "        Defined as the Rayleigh number scaled by the Ekman number.\n",
      "        (R = Ra Ek = α ΔT g d/(Ω κ))\n",
      "    σ1c : float\n",
      "        Dimensionless half-frequency of the bulk mode with R = R1c,\n",
      "        scaled by the rotation rate, Ω.\n",
      "    m0c : float\n",
      "        Azimuthal wavenumber of the bulk mode with R = R1c.\n",
      "    k0c : float\n",
      "        Radial wavenumber of the bulk mode with R = R1c.\n",
      "    Rwall : float\n",
      "        Minimum modified Rayleigh number among sidewall-localized (viscous) convective modes. \n",
      "        Rescaled from the asymptotic solution in a channel.\n",
      "    σwall : float\n",
      "        Dimensionless half-frequency of the wall mode with R = Rwall\n",
      "        Rescaled from the asymptotic solution in a channel.\n",
      "    mwall : float\n",
      "        Azimuthal wavenumber of the wall mode with R = Rwall\n",
      "        Rescaled from the asymptotic solution in a channel.\n",
      "\n",
      "    Notes\n",
      "    -----\n",
      "    Symbols used in documentation:\n",
      "        m  - azimuthal wavenumber\n",
      "        n  - vertical wavenumber\n",
      "        k  - radial wavenumber\n",
      "        s0 - tank radius\n",
      "        d  - tank height\n",
      "        ν  - fluid viscosity\n",
      "        Ω  - rotation rate\n",
      "        κ  - thermal diffusivity\n",
      "        α  - thermal expansion coefficient\n",
      "        ΔT - top to bottom temperature difference\n",
      "        g  - gravitation acceleration\n",
      "        R  - modified Rayleigh number\n",
      "\n",
      "    For both bulk and wall onset modes, the simplest vertical structure is assumed (n = 1).\n",
      "\n",
      "    Applying the eigenvalue condition (equation 4.10 in Zhang & Liao, 2009) on radial \n",
      "    wavenumber ξ requires numerical root-finding. This program uses pre-computed \n",
      "    roots of (4.10) with  Γ = 1, M = 100, K = 100 as starting guesses for finding \n",
      "    roots with Γ != 1. The starting guesses are stored in the files 'xiRetroGuesses.csv'\n",
      "    and 'xiProGuesses.csv'\n",
      "\n",
      "    References\n",
      "    -----\n",
      "    Zhang, K., & Liao, X. (2009). The onset of convection in rotating circular cylinders \n",
      "        with experimental boundary conditions. Journal of Fluid Mechanics, 622, 63-73. \n",
      "        doi:10.1017/S002211200800517X\n",
      "\n",
      "    Zhang, K., & Liao, X. (2017). Theory and Modeling of Rotating Fluids: Convection,\n",
      "        Inertial Waves and Precession (Cambridge Monographs on Mechanics). Cambridge: \n",
      "        Cambridge University Press. doi:10.1017/9781139024853\n",
      "    \n"
     ]
    }
   ],
   "source": [
    "print(cylRayleigh.__doc__)"
   ]
  }
 ],
 "metadata": {
  "kernelspec": {
   "display_name": "Python 3 (ipykernel)",
   "language": "python",
   "name": "python3"
  },
  "language_info": {
   "codemirror_mode": {
    "name": "ipython",
    "version": 3
   },
   "file_extension": ".py",
   "mimetype": "text/x-python",
   "name": "python",
   "nbconvert_exporter": "python",
   "pygments_lexer": "ipython3",
   "version": "3.9.13"
  }
 },
 "nbformat": 4,
 "nbformat_minor": 5
}
