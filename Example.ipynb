{
 "cells": [
  {
   "cell_type": "markdown",
   "id": "c668d8c4-7ea4-4806-8f27-de4ccbead749",
   "metadata": {},
   "source": [
    "# Rotating convection in a cylinder"
   ]
  },
  {
   "cell_type": "code",
   "execution_count": null,
   "id": "2e93a801-3e00-4d92-bce9-1e47703e3eba",
   "metadata": {},
   "outputs": [],
   "source": [
    "from cylinderConvection.cylinderConvection import cylConvection\n",
    "import numpy as np\n",
    "import matplotlib.pyplot as plt\n",
    "import matplotlib_inline\n",
    "matplotlib_inline.backend_inline.set_matplotlib_formats('svg')"
   ]
  },
  {
   "cell_type": "markdown",
   "id": "5c2d04f0-f729-4fb5-bff2-5dd40cfda553",
   "metadata": {},
   "source": [
    "# Examples"
   ]
  },
  {
   "cell_type": "markdown",
   "id": "52e72efb-9937-44fe-9dbe-eafd599adaca",
   "metadata": {},
   "source": [
    "## 1. Quick example"
   ]
  },
  {
   "cell_type": "markdown",
   "id": "b8e5ed37-f659-456c-b0e9-2bd774adbf07",
   "metadata": {},
   "source": [
    "Create a class instance each time you set the tank aspect ratio Γ (Γ = diameter/height), the number of azimuthal velocity wavenumbers M, radial wavenumbers K, and passive temperature wavenumbers J.  \n",
    "\n",
    "For this example, it's sufficient to limit our search to the first 20 x 20 velocity modes and include only the first 20 temperature modes."
   ]
  },
  {
   "cell_type": "code",
   "execution_count": null,
   "id": "efa92a98-ff50-4590-ac67-c3b0164fd931",
   "metadata": {},
   "outputs": [],
   "source": [
    "RotConv1 = cylConvection(Γ = 4, M = 20, K = 20, J = 20)"
   ]
  },
  {
   "cell_type": "markdown",
   "id": "5e7935e5-6cf5-4729-93d0-e89e4a77ebd2",
   "metadata": {},
   "source": [
    "Compute the minimum Rayleigh numbers (Ra = α ΔT g H^3/(ν κ)) for oscillatory and wall convection, given Ekman (E = ν/(2 Ω H^2)) and Prandtl (Pr = ν/κ) numbers. Print values."
   ]
  },
  {
   "cell_type": "code",
   "execution_count": null,
   "id": "b9b4aed4-ac72-4926-8efd-b852cc3a0cdd",
   "metadata": {},
   "outputs": [],
   "source": [
    "RotConv1.minimizeRayleigh(E = 1e-4, Pr = 0.025, printVals=True)"
   ]
  },
  {
   "cell_type": "markdown",
   "id": "b0ce3ab1-609e-4c69-b073-d0aac8251c52",
   "metadata": {},
   "source": [
    "## 2. Looping over a range of Ekman numbers"
   ]
  },
  {
   "cell_type": "markdown",
   "id": "70ee9a98-edcb-4d05-9a50-c09f9474b47e",
   "metadata": {},
   "source": [
    "Create a class instance each time you set Γ, M, K, J (should take ~50 seconds):"
   ]
  },
  {
   "cell_type": "code",
   "execution_count": null,
   "id": "66379470",
   "metadata": {},
   "outputs": [],
   "source": [
    "RotConv1 = cylConvection(Γ = 2, M = 90, K = 90, J = 90)"
   ]
  },
  {
   "cell_type": "markdown",
   "id": "8b8b9d16-0515-4a66-b38d-61084183760c",
   "metadata": {},
   "source": [
    "Compute the minimum Rayleigh number for each Ekman number in an array of values (should take ~2 seconds):"
   ]
  },
  {
   "cell_type": "code",
   "execution_count": null,
   "id": "b7331c1f-0d1e-482a-89d3-d7c888bafffc",
   "metadata": {},
   "outputs": [],
   "source": [
    "Pr = 0.025\n",
    "numE = 100;\n",
    "EArr = np.logspace(-8,-3,num=numE)\n",
    "RaOCylArr = np.zeros(len(EArr))\n",
    "RaWArr = np.zeros(len(EArr))\n",
    "m0cArr = np.zeros(len(EArr))\n",
    "k0cArr = np.zeros(len(EArr))\n",
    "\n",
    "for i in range(len(EArr)):\n",
    "    E = EArr[i]\n",
    "    Rac, R1c, σ1c, m0c, k0c, RaWall, RWall, σWall, mWall = RotConv1.minimizeRayleigh(E = E,Pr = Pr)\n",
    "    RaOCylArr[i] = Rac\n",
    "    RaWArr[i] = RaWall\n",
    "    m0cArr[i] = m0c\n",
    "    k0cArr[i] = k0c"
   ]
  },
  {
   "cell_type": "markdown",
   "id": "a5fdc22d-5801-4849-9789-0c5ae9a1c7f5",
   "metadata": {},
   "source": [
    "Plot:"
   ]
  },
  {
   "cell_type": "code",
   "execution_count": null,
   "id": "4f80f9bb-5682-4816-b71b-cb72cf2a8f92",
   "metadata": {},
   "outputs": [],
   "source": [
    "colors = ['#4E8FC8','#D9A900','#C50230']\n",
    "\n",
    "E_filt = EArr[0:-21]\n",
    "k0c_filt = k0cArr[0:-21]\n",
    "m,b = np.polyfit(np.log(E_filt),np.log(k0c_filt),1)\n",
    "\n",
    "f, (ax1, ax2) = plt.subplots(2, 1,figsize=(7,7))\n",
    "title = f'$\\\\Gamma = {RotConv1.Γ:.2f},\\\\quad Pr = {Pr:.3f},'\n",
    "title += f'\\\\quad M={RotConv1.M:.0f}, \\\\quad K={RotConv1.K:.0f}, \\\\quad J={RotConv1.J:.0f}$'\n",
    "ax1.set_title(title)\n",
    "ax1.loglog(EArr,RaWArr,'k--',label='$Ra_W$')\n",
    "ax1.loglog(EArr,RaOCylArr,color=colors[0],linestyle='--',label='$Ra_O^{cyl}$')\n",
    "ax1.invert_xaxis()\n",
    "ax1.set_xlim(EArr[-1],EArr[0])\n",
    "ax1.set_ylim(1e4,1e11)\n",
    "ax1.grid()\n",
    "ax1.set_xlabel('$E$')\n",
    "ax1.set_ylabel('$Ra$')\n",
    "ax1.legend()\n",
    "\n",
    "ax2.loglog(EArr,m0cArr,label='$m_{0c}$',color='#915eb5')\n",
    "ax2.loglog(EArr,k0cArr,label='$k_{0c}$',color='#e39600')\n",
    "ax2.loglog(EArr[EArr<=E_filt[-1]],np.exp(np.log(EArr[EArr<=E_filt[-1]])*m + b),color='gray',linestyle='--',label=f'$k$ = {np.exp(b):.2f} $E^{{{m:.2f}}}$')\n",
    "ax2.invert_xaxis()\n",
    "ax2.set_yticks(np.array([1,5,10,50,100]),labels=['1','5','10','50','100'])\n",
    "ax2.grid(color='#D3D3D3')\n",
    "ax2.set_xlim(EArr[-1],EArr[0])\n",
    "ax2.set_xlabel('$E$')\n",
    "ax2.set_ylabel('critical wavenumber (oscillatory)')\n",
    "ax2.legend(loc='upper left')\n",
    "fname = f'Γ={RotConv1.Γ:.2f}-Pr={Pr:.3f}-M={RotConv1.M:.0f}-K={RotConv1.K:.0f}-J={RotConv1.J:.0f}.jpg'\n",
    "#plt.savefig(fname,dpi=300)\n",
    "plt.show()"
   ]
  },
  {
   "cell_type": "markdown",
   "id": "451259e3-2bf6-4bac-a3d5-97369ad750fb",
   "metadata": {},
   "source": [
    "# Check against values from [Zhang & Liao (2017)](https://doi.org/10.1017/9781139024853)"
   ]
  },
  {
   "cell_type": "code",
   "execution_count": null,
   "id": "883197f9-f4cc-4bf5-9b48-253bec9e940b",
   "metadata": {},
   "outputs": [],
   "source": [
    "EZL,PrZL,ΓZL,k0cZL,m0cZL,R1cZL,σ1cZL = np.loadtxt('Zhang&Liao2017Values.csv',skiprows=1,delimiter=',',unpack=True)\n",
    "ΓZL = np.unique(ΓZL).item()"
   ]
  },
  {
   "cell_type": "code",
   "execution_count": null,
   "id": "98fe1dfb-b2d1-4a0b-84ee-84844cc0918d",
   "metadata": {},
   "outputs": [],
   "source": [
    "RotConv2 = cylConvection(Γ = ΓZL, M = 25, K = 25, J = 25)"
   ]
  },
  {
   "cell_type": "code",
   "execution_count": null,
   "id": "73ac30b8-cb9c-4a8f-ba25-3c883d031264",
   "metadata": {},
   "outputs": [],
   "source": [
    "R1cArr = np.zeros(len(EZL))\n",
    "σ1cArr = np.zeros(len(EZL))\n",
    "m0cArr = np.zeros(len(EZL))\n",
    "k0cArr = np.zeros(len(EZL))\n",
    "\n",
    "for i in range(len(EZL)):\n",
    "    E = EZL[i]\n",
    "    Pr = PrZL[i]\n",
    "    Rac, R1c, σ1c, m0c, k0c, RaWall, RWall, σWall, mWall = RotConv2.minimizeRayleigh(E = E,Pr = Pr)\n",
    "    R1cArr[i] = R1c\n",
    "    σ1cArr[i] = σ1c\n",
    "    m0cArr[i] = m0c\n",
    "    k0cArr[i] = k0c\n",
    "\n",
    "numWrongR1c = np.sum(np.abs((R1cZL - R1cArr)/R1cZL) > 1e-3)\n",
    "numWrongσ1c = np.sum(np.abs((σ1cZL - σ1cArr)/σ1cZL) > 1e-3)\n",
    "numWrongm0c = np.sum(np.abs(m0cArr-m0cZL))\n",
    "numWrongk0c = np.sum(np.abs(k0cArr-k0cZL))\n",
    "\n",
    "if (numWrongR1c+numWrongσ1c+numWrongm0c+numWrongk0c) == 0:\n",
    "    msg = f'Computed values are within 0.1% of published values (at'\n",
    "    msg+= f' M = {RotConv2.M:.0f}, K = {RotConv2.K:.0f}, and J = {RotConv2.J:.0f})'\n",
    "    print(msg)\n",
    "else:\n",
    "    print(\"Something's wrong.\")"
   ]
  },
  {
   "attachments": {},
   "cell_type": "markdown",
   "id": "f66743a2",
   "metadata": {},
   "source": [
    "# Flow field"
   ]
  },
  {
   "attachments": {},
   "cell_type": "markdown",
   "id": "3c12f6f4",
   "metadata": {},
   "source": [
    "Initialize class for a tank with Γ = 2. Find the onset oscillatory and bulk modes."
   ]
  },
  {
   "cell_type": "code",
   "execution_count": null,
   "id": "69a8ce92",
   "metadata": {},
   "outputs": [],
   "source": [
    "RotConv3 = cylConvection(Γ = 2, M = 30, K = 30, J = 30)\n",
    "RotConv3.minimizeRayleigh(E = 1e-06, Pr = 0.025, printVals=True)"
   ]
  },
  {
   "attachments": {},
   "cell_type": "markdown",
   "id": "66a8b278",
   "metadata": {},
   "source": [
    "Get velocity meshgrids of the onset oscillatory mode. Should take ~16 s:"
   ]
  },
  {
   "cell_type": "code",
   "execution_count": null,
   "id": "3897619e",
   "metadata": {},
   "outputs": [],
   "source": [
    "gdata = RotConv3.gridData(ns=51,nφ=51,nz=21,t=np.linspace(0,20,50))"
   ]
  },
  {
   "attachments": {},
   "cell_type": "markdown",
   "id": "4e231782",
   "metadata": {},
   "source": [
    "Generate synthetic ultrasonic Doppler velocimetric (UDV) data along a chord of the cylinder. Provide the transducer position and beam path endpoint in cylindrical coordinates."
   ]
  },
  {
   "cell_type": "code",
   "execution_count": null,
   "id": "5041c446",
   "metadata": {},
   "outputs": [],
   "source": [
    "s1=0.5*RotConv3.Γ\n",
    "φ1=np.pi/4\n",
    "z1=0.75\n",
    "s2=0.5*RotConv3.Γ\n",
    "φ2=3*np.pi/4\n",
    "z2=0.75\n",
    "t=np.linspace(0,75,50)\n",
    "gates=50\n",
    "\n",
    "gdataDop, beamPath = RotConv3.synthDoppler(s1, φ1,z1,s2,φ2,z2,t,gates)"
   ]
  },
  {
   "attachments": {},
   "cell_type": "markdown",
   "id": "595ec043",
   "metadata": {},
   "source": [
    "Plot:"
   ]
  },
  {
   "cell_type": "code",
   "execution_count": null,
   "id": "9a7de6fc",
   "metadata": {},
   "outputs": [],
   "source": [
    "zind=15\n",
    "tind=0\n",
    "z=gdata['z'][0,0,zind,0]\n",
    "t=gdata['t'][0,0,0,tind]\n",
    "\n",
    "f, (ax1, ax2) = plt.subplots(1, 2, figsize=(15,5))\n",
    "ax1.plot(beamPath['x'],beamPath['y'],'k',label='UDV beam path')\n",
    "ax1.arrow(beamPath['x'][int(gates/2)],beamPath['y'][int(gates/2)],\n",
    "          beamPath['x'][int(gates/2)+1]-beamPath['x'][int(gates/2)],\n",
    "          beamPath['y'][int(gates/2)+1]-beamPath['y'][int(gates/2)],\n",
    "          zorder=2, head_width=0.05, color='k')\n",
    "ax1.legend()\n",
    "ax1.set_xlabel('$x/H$',fontsize=15)\n",
    "ax1.set_ylabel('$y/H$',fontsize=15)\n",
    "ax1.set_title(f'$t \\Omega$={t:.1f}')\n",
    "im1 = ax1.contourf(gdata['x'][...,zind,tind],gdata['y'][...,zind,tind],gdata['uphi'][...,zind,tind],levels=20,cmap='RdBu')\n",
    "plt.colorbar(im1,ax=ax1).set_label(label='$u_\\phi$',size=15)\n",
    "ax1.set_aspect('equal', 'box')\n",
    "\n",
    "im2 = ax2.contourf(gdataDop['t'], gdataDop['l'], gdataDop['uDop'],levels=20,cmap='RdBu')\n",
    "plt.colorbar(im2,ax=ax2).set_label(label='$u_{DOP}$',size=15)\n",
    "ax2.set_xlabel('$t \\Omega$',fontsize=15)\n",
    "ax2.set_ylabel('$d$',fontsize=15)\n",
    "ax2.set_title('Hovmoller plot of synthetic UDV data')\n",
    "title = f'Γ={RotConv3.Γ:.1f}, E={RotConv3.E:.1e}, Pr={RotConv3.Pr:.1e}'\n",
    "title += f', z={z:.2f}'\n",
    "plt.suptitle(title,fontsize=15)\n",
    "plt.subplots_adjust(wspace=0.15)\n",
    "plt.tight_layout()\n",
    "#plt.savefig('synthUDV.jpg',dpi=300)"
   ]
  },
  {
   "cell_type": "code",
   "execution_count": null,
   "id": "337089d8",
   "metadata": {},
   "outputs": [],
   "source": []
  }
 ],
 "metadata": {
  "kernelspec": {
   "display_name": "base",
   "language": "python",
   "name": "python3"
  },
  "language_info": {
   "codemirror_mode": {
    "name": "ipython",
    "version": 3
   },
   "file_extension": ".py",
   "mimetype": "text/x-python",
   "name": "python",
   "nbconvert_exporter": "python",
   "pygments_lexer": "ipython3",
   "version": "3.9.13"
  },
  "vscode": {
   "interpreter": {
    "hash": "0d7af9681afe2dd2ede1db6858a861a95fad61b62b6eb8d78d48e0123bcb8b90"
   }
  }
 },
 "nbformat": 4,
 "nbformat_minor": 5
}
