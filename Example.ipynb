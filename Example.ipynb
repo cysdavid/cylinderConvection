{
 "cells": [
  {
   "cell_type": "code",
   "execution_count": null,
   "id": "2e93a801-3e00-4d92-bce9-1e47703e3eba",
   "metadata": {},
   "outputs": [],
   "source": [
    "from cylinderRayleigh import cylRayleigh\n",
    "import numpy as np"
   ]
  },
  {
   "cell_type": "markdown",
   "id": "52e72efb-9937-44fe-9dbe-eafd599adaca",
   "metadata": {},
   "source": [
    "## Quick example"
   ]
  },
  {
   "cell_type": "markdown",
   "id": "b8e5ed37-f659-456c-b0e9-2bd774adbf07",
   "metadata": {},
   "source": [
    "Create a class instance each time you set Γ, M, K, J:"
   ]
  },
  {
   "cell_type": "code",
   "execution_count": null,
   "id": "efa92a98-ff50-4590-ac67-c3b0164fd931",
   "metadata": {},
   "outputs": [],
   "source": [
    "CylConvection = cylRayleigh(Γ = 4, M = 30,K = 30, J = 25)"
   ]
  },
  {
   "cell_type": "markdown",
   "id": "5e7935e5-6cf5-4729-93d0-e89e4a77ebd2",
   "metadata": {},
   "source": [
    "Compute the minimum Rayleigh numbers for oscillatory and wall convection, given Ekman and Prandtl numbers. Print values."
   ]
  },
  {
   "cell_type": "code",
   "execution_count": null,
   "id": "b9b4aed4-ac72-4926-8efd-b852cc3a0cdd",
   "metadata": {},
   "outputs": [],
   "source": [
    "CylConvection.minimizeRayleigh(Ek = 1e-4, Pr = 0.025, printVals=True)"
   ]
  },
  {
   "cell_type": "markdown",
   "id": "b0ce3ab1-609e-4c69-b073-d0aac8251c52",
   "metadata": {},
   "source": [
    "## Looping over a range of Ekman numbers"
   ]
  },
  {
   "cell_type": "markdown",
   "id": "70ee9a98-edcb-4d05-9a50-c09f9474b47e",
   "metadata": {},
   "source": [
    "Create a class instance each time you set Γ, M, K, J (should take ~50 seconds):"
   ]
  },
  {
   "cell_type": "code",
   "execution_count": null,
   "id": "66379470",
   "metadata": {},
   "outputs": [],
   "source": [
    "CylConvection = cylRayleigh(Γ = 2, M = 90,K = 90, J = 100)"
   ]
  },
  {
   "cell_type": "markdown",
   "id": "8b8b9d16-0515-4a66-b38d-61084183760c",
   "metadata": {},
   "source": [
    "Compute the minimum Rayleigh number for each Ekman number in an array of values (should take ~2 seconds):"
   ]
  },
  {
   "cell_type": "code",
   "execution_count": null,
   "id": "b7331c1f-0d1e-482a-89d3-d7c888bafffc",
   "metadata": {},
   "outputs": [],
   "source": [
    "Pr = 0.025\n",
    "numE = 100;\n",
    "EkArr = np.logspace(-8,-3,num=numE)\n",
    "RaOCylArr = np.zeros(len(EkArr))\n",
    "RaWArr = np.zeros(len(EkArr))\n",
    "m0cArr = np.zeros(len(EkArr))\n",
    "k0cArr = np.zeros(len(EkArr))\n",
    "\n",
    "for i in range(len(EkArr)):\n",
    "    Ek = EkArr[i]\n",
    "    R1c, σ1c, m0c, k0c, Rwall, σwall, mwall = CylConvection.minimizeRayleigh(Ek = Ek,Pr = Pr)\n",
    "    RaOCylArr[i] = R1c/Ek\n",
    "    RaWArr[i] = Rwall/Ek\n",
    "    m0cArr[i] = m0c\n",
    "    k0cArr[i] = k0c"
   ]
  },
  {
   "cell_type": "markdown",
   "id": "a5fdc22d-5801-4849-9789-0c5ae9a1c7f5",
   "metadata": {},
   "source": [
    "Plot:"
   ]
  },
  {
   "cell_type": "code",
   "execution_count": null,
   "id": "4f80f9bb-5682-4816-b71b-cb72cf2a8f92",
   "metadata": {},
   "outputs": [],
   "source": [
    "import matplotlib.pyplot as plt\n",
    "import matplotlib_inline\n",
    "matplotlib_inline.backend_inline.set_matplotlib_formats('svg')\n",
    "\n",
    "colors = ['#4E8FC8','#D9A900','#C50230']\n",
    "\n",
    "E_filt = EkArr[np.argmax(np.abs(np.diff(k0cArr)))+1:-15]\n",
    "k0c_filt = k0cArr[np.argmax(np.abs(np.diff(k0cArr)))+1:-15]\n",
    "m,b = np.polyfit(np.log(E_filt),np.log(k0c_filt),1)\n",
    "\n",
    "f, (ax1, ax2) = plt.subplots(2, 1,figsize=(7,7))\n",
    "title = f'$\\\\Gamma = {CylConvection.Γ:.2f},\\\\quad Pr = {Pr:.3f},'\n",
    "title += f'\\\\quad M={CylConvection.M:.0f}, \\\\quad K={CylConvection.K:.0f}, \\\\quad J={CylConvection.J:.0f}$'\n",
    "ax1.set_title(title)\n",
    "ax1.loglog(EkArr,Rwall/EkArr,'k--',label='$Ra_W$')\n",
    "ax1.loglog(EkArr,RaOCylArr,color=colors[1],linestyle='--',label='$Ra_O^{cyl}$')\n",
    "ax1.invert_xaxis()\n",
    "ax1.set_xlim(EkArr[-1],EkArr[0])\n",
    "ax1.set_ylim(1e4,1e11)\n",
    "ax1.grid()\n",
    "ax1.set_xlabel('$Ek$')\n",
    "ax1.set_ylabel('$Ra$')\n",
    "ax1.legend()\n",
    "\n",
    "ax2.loglog(EkArr,50*np.ones(len(EkArr)),color='k',lw=0.5)\n",
    "ax2.loglog(EkArr,m0cArr,label='$m_{0c}$',color='#915eb5')\n",
    "ax2.loglog(EkArr,k0cArr,label='$k_{0c}$',color='#e39600')\n",
    "ax2.loglog(EkArr[EkArr<=E_filt[-1]],np.exp(np.log(EkArr[EkArr<=E_filt[-1]])*m + b),color='gray',linestyle='--',label=f'$k$ = {np.exp(b):.2f} $Ek^{{{m:.2f}}}$')\n",
    "ax2.invert_xaxis()\n",
    "ax2.set_yticks(np.array([1,5,10,50,100]),labels=['1','5','10','50','100'])\n",
    "ax2.grid(color='#D3D3D3')\n",
    "ax2.set_xlim(EkArr[-1],EkArr[0])\n",
    "ax2.set_xlabel('$Ek$')\n",
    "ax2.set_ylabel('critical wavenumber (oscillatory)')\n",
    "ax2.legend(loc='upper left')\n",
    "plt.show()"
   ]
  },
  {
   "cell_type": "code",
   "execution_count": null,
   "id": "d6993a09-4987-4522-8fdd-c9e8a6a9a10d",
   "metadata": {},
   "outputs": [],
   "source": []
  }
 ],
 "metadata": {
  "kernelspec": {
   "display_name": "Python 3 (ipykernel)",
   "language": "python",
   "name": "python3"
  },
  "language_info": {
   "codemirror_mode": {
    "name": "ipython",
    "version": 3
   },
   "file_extension": ".py",
   "mimetype": "text/x-python",
   "name": "python",
   "nbconvert_exporter": "python",
   "pygments_lexer": "ipython3",
   "version": "3.9.13"
  }
 },
 "nbformat": 4,
 "nbformat_minor": 5
}
